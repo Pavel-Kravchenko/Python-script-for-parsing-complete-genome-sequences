{
 "cells": [
  {
   "cell_type": "code",
   "execution_count": null,
   "metadata": {},
   "outputs": [],
   "source": [
    "from Bio import Entrez\n",
    "from Bio import SeqIO\n",
    "from Bio.SeqRecord import SeqRecord\n",
    "\n",
    "\n",
    "Entrez.email = \"something@something.com\"\n",
    "\n",
    "handle = Entrez.esearch(db=\"nucleotide\", term=\"mitochondrion, complete genome\", RetMax=10000)\n",
    "record = Entrez.read(handle)\n",
    "# print(record[\"IdList\"])\n",
    "# print(record[\"Count\"])\n",
    "gi_list = record[\"IdList\"]\n",
    "handle = Entrez.efetch(db=\"nucleotide\", id=gi_list, rettype=\"gb\", retmode=\"text\")\n",
    "text = handle.read()\n",
    "# print(text)\n",
    "\n",
    "records = SeqIO.parse(handle, \"gb\")\n",
    "handle = Entrez.efetch(db=\"nucleotide\", id=gi_list, rettype=\"gb\", retmode=\"text\")\n",
    "records = SeqIO.parse(handle, \"gb\")\n",
    "#with open(\"records.fasta\", \"w\") as f:\n",
    "#   SeqIO.write(records, f, \"fasta\")\n",
    "        "
   ]
  },
  {
   "cell_type": "code",
   "execution_count": 58,
   "metadata": {},
   "outputs": [],
   "source": [
    "import sys\n",
    "import re\n",
    "\n",
    "\n",
    "len_fasta_out_file = 60\n",
    "def module_fasta_writer(out_file, line):  # writes in fasta format by 60 nums in each line\n",
    "    start_point = 0\n",
    "    end_point = len_fasta_out_file\n",
    "    if len(line) > len_fasta_out_file:\n",
    "        len_line = len(line)\n",
    "        while len_line > 0:\n",
    "            j = line[start_point:end_point]\n",
    "            len_line = len_line - len_fasta_out_file\n",
    "            out_file.write(j + \"\\n\")\n",
    "            start_point = start_point + len_fasta_out_file\n",
    "            end_point = end_point + len_fasta_out_file\n",
    "    else:\n",
    "        out_file.write(line + \"\\n\")\n",
    "        \n",
    "        \n",
    "def GC_module(sequence):\n",
    "    nuc_collector = {}\n",
    "    for i in range(len(sequence)):\n",
    "        nuc = sequence[i]\n",
    "        if nuc in nuc_collector.keys():\n",
    "            nuc_collector[nuc] = int(nuc_collector[nuc]) + 1\n",
    "        else:\n",
    "            nuc_collector[nuc] = 1\n",
    "    GC = nuc_collector[\"G\"]+nuc_collector[\"C\"]/len(sequence)\n",
    "    return round(GC,3)\n",
    "\n",
    "stop = 0\n",
    "with open(\"records.fasta\", \"r\") as f:\n",
    "    seqs={}\n",
    "    for line in f:\n",
    "        line = line.rstrip()\n",
    "        #print(line)\n",
    "        if len(line) > 0:\n",
    "            if line[0] == \">\":\n",
    "                name = line.strip()\n",
    "                seqs[name] = ''\n",
    "                stop += 1\n",
    "                if stop == 100000:\n",
    "                    break\n",
    "            else:\n",
    "                seqs[name] = seqs[name] + line\n",
    "        # print(seqs)\n",
    "                \n",
    "names = list(seqs.keys())"
   ]
  },
  {
   "cell_type": "code",
   "execution_count": 64,
   "metadata": {},
   "outputs": [
    {
     "name": "stdout",
     "output_type": "stream",
     "text": [
      "Найдено организмов: 715\n",
      "Всего последовательностей: 411440\n"
     ]
    }
   ],
   "source": [
    "# print(\" \".join(names[0].split()[-3:]))\n",
    "# print(len(names))\n",
    "new_list = [x for x in names if re.fullmatch(r\"mitochondrion, complete genome\", \" \".join(x.split()[-3:]))]\n",
    "# print(len(new_list))\n",
    "name_list = [\" \".join(x.split()[1:3]) for x in new_list]\n",
    "# print(name_list)\n",
    "# new_list.append(new_list1)\n",
    "# new_new_list = [x for x in new_list if \"EC=1.1\" in x]\n",
    "\n",
    "from itertools import groupby\n",
    "sorted_list = [el for el, _ in groupby(name_list)]\n",
    "# print(sorted_list)\n",
    "\n",
    "dic = {}\n",
    "for i in sorted_list:\n",
    "    # print(i)\n",
    "    for j in names:\n",
    "        if i == \" \".join(j.split()[1:3]):\n",
    "            if i in dic.keys():\n",
    "                dic[i] = dic[i] + 1\n",
    "            if i not in dic.keys():\n",
    "                dic[i] = 1\n",
    "# print(dic)\n",
    "# sorted(dic.items(), key=lambda x: -x[1])\n",
    "\n",
    "callul = 0\n",
    "new_dic = {}\n",
    "for i in dic.keys():\n",
    "    if dic[i] >= 4: \n",
    "        callul += dic[i]\n",
    "        new_dic[i] = dic[i]\n",
    "        # print(dic[i])\n",
    "        \n",
    "# print(new_dic)\n",
    "print(\"Найдено организмов:\", len(new_dic.keys()))\n",
    "print(\"Всего последовательностей:\", callul)"
   ]
  },
  {
   "cell_type": "code",
   "execution_count": 62,
   "metadata": {},
   "outputs": [],
   "source": [
    "import os\n",
    "directory =\" files\"\n",
    "os.mkdir(directory)\n",
    "os.chdir(directory) "
   ]
  },
  {
   "cell_type": "code",
   "execution_count": 63,
   "metadata": {},
   "outputs": [],
   "source": [
    "for i in new_dic.keys():\n",
    "    with open(str(i) + \".fasta\", 'w') as f:\n",
    "        for j in seqs.keys():\n",
    "            if \" \".join(j.split()[1:3]) == i:\n",
    "                f.write(j + \"\\n\")\n",
    "                module_fasta_writer(f, seqs[j])"
   ]
  }
 ],
 "metadata": {
  "kernelspec": {
   "display_name": "Python 3",
   "language": "python",
   "name": "python3"
  },
  "language_info": {
   "codemirror_mode": {
    "name": "ipython",
    "version": 3
   },
   "file_extension": ".py",
   "mimetype": "text/x-python",
   "name": "python",
   "nbconvert_exporter": "python",
   "pygments_lexer": "ipython3",
   "version": "3.6.5"
  }
 },
 "nbformat": 4,
 "nbformat_minor": 2
}
